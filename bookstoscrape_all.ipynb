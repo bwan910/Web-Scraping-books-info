{
 "cells": [
  {
   "cell_type": "code",
   "execution_count": null,
   "metadata": {},
   "outputs": [],
   "source": [
    "import requests\n",
    "from bs4 import BeautifulSoup\n",
    "import pandas as pd\n",
    "from pandas import DataFrame"
   ]
  },
  {
   "cell_type": "code",
   "execution_count": null,
   "metadata": {},
   "outputs": [],
   "source": [
    "# empty list to store data\n",
    "book_link = []\n",
    "book_image = []\n",
    "book_title = []\n",
    "book_price = []\n",
    "book_stock = []"
   ]
  },
  {
   "cell_type": "code",
   "execution_count": null,
   "metadata": {},
   "outputs": [],
   "source": [
    "for page in range(1, 50):\n",
    "    # webpage url\n",
    "    url = \"https://books.toscrape.com/catalogue/page-{}.html\".format(page)\n",
    "\n",
    "    # obj to get url\n",
    "    response = requests.get(url)\n",
    "    # check status\n",
    "    # print(response.status_code)\n",
    "\n",
    "    # obj for soup\n",
    "    soup = BeautifulSoup(response.text, \"html.parser\")\n",
    "\n",
    "    soup_content = soup.findAll(\"article\", {\"class\": \"product_pod\"})\n",
    "\n",
    "\n",
    "    # start scraping\n",
    "    for x in soup_content:\n",
    "        # get link\n",
    "        link = x.findAll('a')[0]['href']\n",
    "        # print(link)\n",
    "        # creating the full link for books\n",
    "        full_link = 'https://books.toscrape.com/catalogue/' + link\n",
    "        #print(full_link)\n",
    "        book_link.append(full_link)\n",
    "\n",
    "        # get image\n",
    "        image = x.findAll('a')[0].find('img')[\"src\"]\n",
    "        # print(image)\n",
    "        # removing dots infront of link\n",
    "        remove = image.lstrip(\".\")\n",
    "        # creating the full link for book images\n",
    "        full_image = 'books.toscrape.com' + remove\n",
    "        #print(full_image)\n",
    "        book_image.append(full_image)\n",
    "\n",
    "        # get book title\n",
    "        title = x.findAll('a')[1]['title']\n",
    "        # print(title)\n",
    "        book_title.append(title)\n",
    "\n",
    "        # get price\n",
    "        price = x.find('p', {\"class\": \"price_color\"}).text[1:]\n",
    "        print(price)\n",
    "        book_price.append(price)\n",
    "\n",
    "        # get stock\n",
    "        stock = x.find('p', class_=\"instock availability\").text.strip()\n",
    "        # print(stock)\n",
    "        book_stock.append(stock)"
   ]
  },
  {
   "cell_type": "code",
   "execution_count": null,
   "metadata": {},
   "outputs": [],
   "source": [
    "data = {\n",
    "            \"link\": book_link,\n",
    "            \"image\": book_image,\n",
    "            \"title\": book_title,\n",
    "            \"price\": book_price,\n",
    "            \"stock\": book_stock\n",
    "        }\n",
    "\n",
    "#print(data)\n",
    "\n",
    "# to check is data consistent are all of them having the same amount \n",
    "for val in data.values():\n",
    "    print(len(val))\n"
   ]
  },
  {
   "cell_type": "code",
   "execution_count": null,
   "metadata": {},
   "outputs": [],
   "source": [
    "\n",
    "df = DataFrame(data, columns=[\n",
    "    \"link\",\n",
    "    \"image\",\n",
    "    \"title\",\n",
    "    \"price\",\n",
    "    \"stock\"\n",
    "])\n",
    "\n",
    "df.to_csv('books.csv')"
   ]
  },
  {
   "cell_type": "code",
   "execution_count": 8,
   "metadata": {},
   "outputs": [
    {
     "output_type": "execute_result",
     "data": {
      "text/plain": [
       "   Unnamed: 0                                               link  \\\n",
       "0           0  https://books.toscrape.com/catalogue/a-light-i...   \n",
       "1           1  https://books.toscrape.com/catalogue/tipping-t...   \n",
       "2           2  https://books.toscrape.com/catalogue/soumissio...   \n",
       "3           3  https://books.toscrape.com/catalogue/sharp-obj...   \n",
       "4           4  https://books.toscrape.com/catalogue/sapiens-a...   \n",
       "\n",
       "                                               image  \\\n",
       "0  books.toscrape.com/media/cache/2c/da/2cdad67c4...   \n",
       "1  books.toscrape.com/media/cache/26/0c/260c6ae16...   \n",
       "2  books.toscrape.com/media/cache/3e/ef/3eef99c9d...   \n",
       "3  books.toscrape.com/media/cache/32/51/3251cf3a3...   \n",
       "4  books.toscrape.com/media/cache/be/a5/bea5697f2...   \n",
       "\n",
       "                                   title   price     stock  \n",
       "0                   A Light in the Attic  £51.77  In stock  \n",
       "1                     Tipping the Velvet  £53.74  In stock  \n",
       "2                             Soumission  £50.10  In stock  \n",
       "3                          Sharp Objects  £47.82  In stock  \n",
       "4  Sapiens: A Brief History of Humankind  £54.23  In stock  "
      ],
      "text/html": "<div>\n<style scoped>\n    .dataframe tbody tr th:only-of-type {\n        vertical-align: middle;\n    }\n\n    .dataframe tbody tr th {\n        vertical-align: top;\n    }\n\n    .dataframe thead th {\n        text-align: right;\n    }\n</style>\n<table border=\"1\" class=\"dataframe\">\n  <thead>\n    <tr style=\"text-align: right;\">\n      <th></th>\n      <th>Unnamed: 0</th>\n      <th>link</th>\n      <th>image</th>\n      <th>title</th>\n      <th>price</th>\n      <th>stock</th>\n    </tr>\n  </thead>\n  <tbody>\n    <tr>\n      <th>0</th>\n      <td>0</td>\n      <td>https://books.toscrape.com/catalogue/a-light-i...</td>\n      <td>books.toscrape.com/media/cache/2c/da/2cdad67c4...</td>\n      <td>A Light in the Attic</td>\n      <td>£51.77</td>\n      <td>In stock</td>\n    </tr>\n    <tr>\n      <th>1</th>\n      <td>1</td>\n      <td>https://books.toscrape.com/catalogue/tipping-t...</td>\n      <td>books.toscrape.com/media/cache/26/0c/260c6ae16...</td>\n      <td>Tipping the Velvet</td>\n      <td>£53.74</td>\n      <td>In stock</td>\n    </tr>\n    <tr>\n      <th>2</th>\n      <td>2</td>\n      <td>https://books.toscrape.com/catalogue/soumissio...</td>\n      <td>books.toscrape.com/media/cache/3e/ef/3eef99c9d...</td>\n      <td>Soumission</td>\n      <td>£50.10</td>\n      <td>In stock</td>\n    </tr>\n    <tr>\n      <th>3</th>\n      <td>3</td>\n      <td>https://books.toscrape.com/catalogue/sharp-obj...</td>\n      <td>books.toscrape.com/media/cache/32/51/3251cf3a3...</td>\n      <td>Sharp Objects</td>\n      <td>£47.82</td>\n      <td>In stock</td>\n    </tr>\n    <tr>\n      <th>4</th>\n      <td>4</td>\n      <td>https://books.toscrape.com/catalogue/sapiens-a...</td>\n      <td>books.toscrape.com/media/cache/be/a5/bea5697f2...</td>\n      <td>Sapiens: A Brief History of Humankind</td>\n      <td>£54.23</td>\n      <td>In stock</td>\n    </tr>\n  </tbody>\n</table>\n</div>"
     },
     "metadata": {},
     "execution_count": 8
    }
   ],
   "source": [
    "book_data = pd.read_csv('books.csv')\n",
    "book_data.head()"
   ]
  },
  {
   "cell_type": "code",
   "execution_count": null,
   "metadata": {},
   "outputs": [],
   "source": []
  }
 ],
 "metadata": {
  "kernelspec": {
   "display_name": "Python 3",
   "language": "python",
   "name": "python3"
  },
  "language_info": {
   "codemirror_mode": {
    "name": "ipython",
    "version": 3
   },
   "file_extension": ".py",
   "mimetype": "text/x-python",
   "name": "python",
   "nbconvert_exporter": "python",
   "pygments_lexer": "ipython3",
   "version": "3.8.3-final"
  }
 },
 "nbformat": 4,
 "nbformat_minor": 4
}